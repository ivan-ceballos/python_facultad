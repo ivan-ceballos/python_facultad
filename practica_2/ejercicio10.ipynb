{
 "cells": [
  {
   "cell_type": "markdown",
   "metadata": {},
   "source": [
    "#### Un club de hockey posee las estadísticas de todxs sus jugadorxs de la última temporada jugada del torneo de hockey mixto. Poseen una lista con los nombres, otra con los goles a favor, otra con los goles evitados y la última con las asistencias realizadas. El club está por otorgar los premios de cierre de temporada y necesita:\n",
    "<ol>\n",
    "  <li>Generar una estructura todas las estadísticas asociadas a cada jugador o jugadora.</li>\n",
    "  <li>Conocer el nombre y la cantidad de goles del goleador o goleadora.</li>\n",
    "  <li>Conocer el nombre del jugador o jugadora más influyente, esto se consigue sumando goles a favor, goles evitados y cantidad de asistencias. La particularidad es que los goles a favor, evitados y las asistencias NO valen lo mismo (es un promedio ponderado):\n",
    "  <table>\n",
    "  <thead>\n",
    "    <tr>\n",
    "      <th></th>\n",
    "      <th><b>valor</b></th>\n",
    "    </tr>\n",
    "  </thead>\n",
    "  <tbody>\n",
    "    <tr>\n",
    "      <td>goles a favor</td>\n",
    "      <td>1.5</td>\n",
    "    </tr>\n",
    "    <tr>\n",
    "      <td>goles en evitados</td>\n",
    "      <td>1.25</td>\n",
    "    </tr>\n",
    "    <tr>\n",
    "      <td>asistencias</td>\n",
    "      <td>1</td>\n",
    "    </tr>\n",
    "          \n",
    "  </tbody>\n",
    "</table>\n",
    "  </li>\n",
    "  <li>Conocer el promedio de goles por partido del equipo en general. Dato: Se jugaron 25 partidos en la temporada.</li>\n",
    "  <li>Conocer el promedio de goles por partido del goleador o goleadora. Dato: Se jugaron 25 partidos en la temporada.\n",
    "</li>\n",
    "</ol>"
   ]
  },
  {
   "cell_type": "code",
   "execution_count": 1,
   "metadata": {},
   "outputs": [
    {
     "name": "stdout",
     "output_type": "stream",
     "text": [
      " Agustin, Yanina, Andrés, Ariadna, Bautista, CAROLINA,\n",
      "CESAR, David, Diego, Dolores, DYLAN, ELIANA, Emanuel, Fabián, Noelia,\n",
      "Francisca', FEDERICO, Fernanda, GONZALO, Nancy \n",
      "[0, 10, 4, 0, 5, 14, 0, 0, 7, 2, 1, 1, 1, 5, 6, 1, 1, 2, 0, 11]\n",
      "[0, 2, 0, 0, 5, 2, 0, 0, 1, 2, 0, 5, 5, 0, 1, 0, 2, 3, 0, 0]\n",
      "[0, 5, 1, 0, 5, 2, 0, 0, 1, 2, 1, 5, 5, 0, 1, 0, 2, 3, 1, 0]\n"
     ]
    }
   ],
   "source": [
    "names = \"\"\" Agustin, Yanina, Andrés, Ariadna, Bautista, CAROLINA,\n",
    "CESAR, David, Diego, Dolores, DYLAN, ELIANA, Emanuel, Fabián, Noelia,\n",
    "Francisca', FEDERICO, Fernanda, GONZALO, Nancy \"\"\"\n",
    "goals = [0, 10, 4, 0, 5, 14, 0, 0, 7, 2, 1, 1, 1, 5, 6, 1, 1, 2, 0, 11]\n",
    "goals_avoided = [0, 2, 0, 0, 5, 2, 0, 0, 1, 2, 0, 5, 5, 0, 1, 0, 2, 3, 0, 0]\n",
    "assists = [0, 5, 1, 0, 5, 2, 0, 0, 1, 2, 1, 5, 5, 0, 1, 0, 2, 3, 1, 0]\n",
    "print(names)\n",
    "print(goals)\n",
    "print(goals_avoided)\n",
    "print(assists)"
   ]
  },
  {
   "cell_type": "markdown",
   "metadata": {},
   "source": [
    "Hago una lista del string de los nombres"
   ]
  },
  {
   "cell_type": "code",
   "execution_count": 2,
   "metadata": {},
   "outputs": [
    {
     "name": "stdout",
     "output_type": "stream",
     "text": [
      "['agustin', 'yanina', 'andrés', 'ariadna', 'bautista', 'carolina', 'cesar', 'david', 'diego', 'dolores', 'dylan', 'eliana', 'emanuel', 'fabián', 'noelia', \"francisca'\", 'federico', 'fernanda', 'gonzalo', 'nancy']\n"
     ]
    }
   ],
   "source": [
    "names_list = [name for name in names.lower().split(\",\")]\n",
    "print(names_list)"
   ]
  },
  {
   "cell_type": "markdown",
   "metadata": {},
   "source": [
    "Importo los modulos"
   ]
  },
  {
   "cell_type": "code",
   "execution_count": 3,
   "metadata": {},
   "outputs": [],
   "source": [
    "from modules.functions import *\n"
   ]
  },
  {
   "cell_type": "markdown",
   "metadata": {},
   "source": [
    "Inciso 1: generar estructura con todas las estadisticas juntas"
   ]
  },
  {
   "cell_type": "code",
   "execution_count": 4,
   "metadata": {},
   "outputs": [
    {
     "name": "stdout",
     "output_type": "stream",
     "text": [
      "{'agustin': {'goles_a_favor': 0, 'goles_evitados': 0, 'asistencias': 0}, 'yanina': {'goles_a_favor': 10, 'goles_evitados': 2, 'asistencias': 5}, 'andrés': {'goles_a_favor': 4, 'goles_evitados': 0, 'asistencias': 1}, 'ariadna': {'goles_a_favor': 0, 'goles_evitados': 0, 'asistencias': 0}, 'bautista': {'goles_a_favor': 5, 'goles_evitados': 5, 'asistencias': 5}, 'carolina': {'goles_a_favor': 14, 'goles_evitados': 2, 'asistencias': 2}, 'cesar': {'goles_a_favor': 0, 'goles_evitados': 0, 'asistencias': 0}, 'david': {'goles_a_favor': 0, 'goles_evitados': 0, 'asistencias': 0}, 'diego': {'goles_a_favor': 7, 'goles_evitados': 1, 'asistencias': 1}, 'dolores': {'goles_a_favor': 2, 'goles_evitados': 2, 'asistencias': 2}, 'dylan': {'goles_a_favor': 1, 'goles_evitados': 0, 'asistencias': 1}, 'eliana': {'goles_a_favor': 1, 'goles_evitados': 5, 'asistencias': 5}, 'emanuel': {'goles_a_favor': 1, 'goles_evitados': 5, 'asistencias': 5}, 'fabián': {'goles_a_favor': 5, 'goles_evitados': 0, 'asistencias': 0}, 'noelia': {'goles_a_favor': 6, 'goles_evitados': 1, 'asistencias': 1}, \"francisca'\": {'goles_a_favor': 1, 'goles_evitados': 0, 'asistencias': 0}, 'federico': {'goles_a_favor': 1, 'goles_evitados': 2, 'asistencias': 2}, 'fernanda': {'goles_a_favor': 2, 'goles_evitados': 3, 'asistencias': 3}, 'gonzalo': {'goles_a_favor': 0, 'goles_evitados': 0, 'asistencias': 1}, 'nancy': {'goles_a_favor': 11, 'goles_evitados': 0, 'asistencias': 0}}\n"
     ]
    }
   ],
   "source": [
    "players_stats = get_structure(names_list,goals,goals_avoided,assists)\n",
    "print(players_stats)"
   ]
  },
  {
   "cell_type": "markdown",
   "metadata": {},
   "source": [
    "Inciso 2: obtener el goleador del equipo"
   ]
  },
  {
   "cell_type": "code",
   "execution_count": 5,
   "metadata": {},
   "outputs": [
    {
     "name": "stdout",
     "output_type": "stream",
     "text": [
      "El máximo goleador es: Carolina con 14 goles.\n"
     ]
    }
   ],
   "source": [
    "goal_scorer_name, goals_scored = get_goal_scorer(players_stats)\n",
    "print(\"El máximo goleador es:\", goal_scorer_name.capitalize(), \"con\", goals_scored, \"goles.\")"
   ]
  },
  {
   "cell_type": "markdown",
   "metadata": {},
   "source": [
    "Inciso 3: obtener el jugador mas influyente del equipo\n"
   ]
  },
  {
   "cell_type": "code",
   "execution_count": 6,
   "metadata": {},
   "outputs": [
    {
     "name": "stdout",
     "output_type": "stream",
     "text": [
      "El jugador mas influente es: Carolina\n"
     ]
    }
   ],
   "source": [
    "influential_player = get_influential_player (players_stats)\n",
    "print(\"El jugador mas influente es:\",influential_player.capitalize())"
   ]
  },
  {
   "cell_type": "markdown",
   "metadata": {},
   "source": [
    "Inciso 4: obtener promedio de goles por partido del equipo"
   ]
  },
  {
   "cell_type": "code",
   "execution_count": 7,
   "metadata": {},
   "outputs": [
    {
     "name": "stdout",
     "output_type": "stream",
     "text": [
      "El promedio de gol por partido del equipo es: 2.84\n"
     ]
    }
   ],
   "source": [
    "team_goal_average = get_team_goal_average(players_stats)\n",
    "print(\"El promedio de gol por partido del equipo es:\",team_goal_average)"
   ]
  },
  {
   "cell_type": "markdown",
   "metadata": {},
   "source": [
    "Inciso 5: obtener promedio de goles por partido del goleador"
   ]
  },
  {
   "cell_type": "code",
   "execution_count": 8,
   "metadata": {},
   "outputs": [
    {
     "name": "stdout",
     "output_type": "stream",
     "text": [
      "El promedio de gol partido de la goleadora es: 0.56\n"
     ]
    }
   ],
   "source": [
    "goal_scorer_goal_average = get_goal_scorer_goal_average(players_stats)\n",
    "print(\"El promedio de gol partido de la goleadora es:\",goal_scorer_goal_average)"
   ]
  }
 ],
 "metadata": {
  "kernelspec": {
   "display_name": "venv",
   "language": "python",
   "name": "python3"
  },
  "language_info": {
   "codemirror_mode": {
    "name": "ipython",
    "version": 3
   },
   "file_extension": ".py",
   "mimetype": "text/x-python",
   "name": "python",
   "nbconvert_exporter": "python",
   "pygments_lexer": "ipython3",
   "version": "3.11.7"
  }
 },
 "nbformat": 4,
 "nbformat_minor": 2
}
